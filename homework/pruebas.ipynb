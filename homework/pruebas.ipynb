{
 "cells": [
  {
   "cell_type": "code",
   "execution_count": 9,
   "metadata": {},
   "outputs": [
    {
     "name": "stdout",
     "output_type": "stream",
     "text": [
      "El archivo tiene 41188 filas y 7 columnas.\n"
     ]
    }
   ],
   "source": [
    "import pandas as pd\n",
    "    \n",
    "    # Leer el archivo CSV\n",
    "df = pd.read_csv(r\"C:\\Users\\DELL\\OneDrive\\Escritorio\\Especialización\\Analitica Descriptiva\\2024-2-LAB-05-limpieza-de-datos-de-campanas-de-marketing-carolinacgj\\files\\output\\client.csv\")\n",
    "# Obtener el número de filas y columnas\n",
    "num_filas, num_columnas = df.shape\n",
    "\n",
    "# Mostrar el resultado\n",
    "print(f\"El archivo tiene {num_filas} filas y {num_columnas} columnas.\")\n",
    "\n"
   ]
  }
 ],
 "metadata": {
  "kernelspec": {
   "display_name": ".venv",
   "language": "python",
   "name": "python3"
  },
  "language_info": {
   "codemirror_mode": {
    "name": "ipython",
    "version": 3
   },
   "file_extension": ".py",
   "mimetype": "text/x-python",
   "name": "python",
   "nbconvert_exporter": "python",
   "pygments_lexer": "ipython3",
   "version": "3.10.9"
  }
 },
 "nbformat": 4,
 "nbformat_minor": 2
}
